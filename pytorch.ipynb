{
  "nbformat": 4,
  "nbformat_minor": 0,
  "metadata": {
    "colab": {
      "provenance": [],
      "gpuType": "T4",
      "authorship_tag": "ABX9TyOaId3LmB/ETcBNUvr+iRQS",
      "include_colab_link": true
    },
    "kernelspec": {
      "name": "python3",
      "display_name": "Python 3"
    },
    "language_info": {
      "name": "python"
    },
    "accelerator": "GPU"
  },
  "cells": [
    {
      "cell_type": "markdown",
      "metadata": {
        "id": "view-in-github",
        "colab_type": "text"
      },
      "source": [
        "<a href=\"https://colab.research.google.com/github/samarjithMnagesha/pytorch/blob/main/pytorch.ipynb\" target=\"_parent\"><img src=\"https://colab.research.google.com/assets/colab-badge.svg\" alt=\"Open In Colab\"/></a>"
      ]
    },
    {
      "cell_type": "code",
      "source": [
        "import torch\n",
        "import numpy as np"
      ],
      "metadata": {
        "id": "_nP_2sIhmSvK"
      },
      "execution_count": 3,
      "outputs": []
    },
    {
      "cell_type": "markdown",
      "source": [
        "# *List*"
      ],
      "metadata": {
        "id": "c2FGBXpeoC03"
      }
    },
    {
      "cell_type": "code",
      "source": [
        "List_1=torch.randn(3,4)\n",
        "print(List_1)"
      ],
      "metadata": {
        "colab": {
          "base_uri": "https://localhost:8080/"
        },
        "id": "PiXXiXTcnaLB",
        "outputId": "d1d2be1c-1cc8-403b-9f33-71ee3d9239fa"
      },
      "execution_count": 6,
      "outputs": [
        {
          "output_type": "stream",
          "name": "stdout",
          "text": [
            "tensor([[ 0.0280, -0.5834, -0.3168,  0.2339],\n",
            "        [-0.3364, -0.1033,  0.1292,  1.5101],\n",
            "        [-0.4454,  1.1277,  0.3408, -1.5530]])\n"
          ]
        }
      ]
    },
    {
      "cell_type": "code",
      "source": [
        "List_1.dtype"
      ],
      "metadata": {
        "colab": {
          "base_uri": "https://localhost:8080/"
        },
        "id": "m35Iz_QLoOLN",
        "outputId": "f8465c5f-90c4-44bf-f4d1-3ac1438e6ff6"
      },
      "execution_count": 9,
      "outputs": [
        {
          "output_type": "execute_result",
          "data": {
            "text/plain": [
              "torch.float32"
            ]
          },
          "metadata": {},
          "execution_count": 9
        }
      ]
    },
    {
      "cell_type": "code",
      "source": [],
      "metadata": {
        "id": "0ToQuXsFod7P"
      },
      "execution_count": null,
      "outputs": []
    }
  ]
}
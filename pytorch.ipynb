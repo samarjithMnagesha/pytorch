{
  "nbformat": 4,
  "nbformat_minor": 0,
  "metadata": {
    "colab": {
      "provenance": [],
      "gpuType": "T4",
      "authorship_tag": "ABX9TyPBw58/BO5Uz9e2I49oiR0a",
      "include_colab_link": true
    },
    "kernelspec": {
      "name": "python3",
      "display_name": "Python 3"
    },
    "language_info": {
      "name": "python"
    },
    "accelerator": "GPU"
  },
  "cells": [
    {
      "cell_type": "markdown",
      "metadata": {
        "id": "view-in-github",
        "colab_type": "text"
      },
      "source": [
        "<a href=\"https://colab.research.google.com/github/samarjithMnagesha/pytorch/blob/main/pytorch.ipynb\" target=\"_parent\"><img src=\"https://colab.research.google.com/assets/colab-badge.svg\" alt=\"Open In Colab\"/></a>"
      ]
    },
    {
      "cell_type": "code",
      "source": [
        "import torch\n",
        "import numpy as np"
      ],
      "metadata": {
        "id": "_nP_2sIhmSvK"
      },
      "execution_count": 3,
      "outputs": []
    },
    {
      "cell_type": "markdown",
      "source": [
        "# *List*"
      ],
      "metadata": {
        "id": "c2FGBXpeoC03"
      }
    },
    {
      "cell_type": "code",
      "source": [
        "List_1=torch.randn(3,4)\n",
        "print(List_1)"
      ],
      "metadata": {
        "colab": {
          "base_uri": "https://localhost:8080/"
        },
        "id": "PiXXiXTcnaLB",
        "outputId": "d1d2be1c-1cc8-403b-9f33-71ee3d9239fa"
      },
      "execution_count": 6,
      "outputs": [
        {
          "output_type": "stream",
          "name": "stdout",
          "text": [
            "tensor([[ 0.0280, -0.5834, -0.3168,  0.2339],\n",
            "        [-0.3364, -0.1033,  0.1292,  1.5101],\n",
            "        [-0.4454,  1.1277,  0.3408, -1.5530]])\n"
          ]
        }
      ]
    },
    {
      "cell_type": "code",
      "source": [
        "List_1.dtype"
      ],
      "metadata": {
        "colab": {
          "base_uri": "https://localhost:8080/"
        },
        "id": "m35Iz_QLoOLN",
        "outputId": "f8465c5f-90c4-44bf-f4d1-3ac1438e6ff6"
      },
      "execution_count": 9,
      "outputs": [
        {
          "output_type": "execute_result",
          "data": {
            "text/plain": [
              "torch.float32"
            ]
          },
          "metadata": {},
          "execution_count": 9
        }
      ]
    },
    {
      "cell_type": "markdown",
      "source": [
        "Converting numpy array to tensor"
      ],
      "metadata": {
        "id": "P1igHQvjo_QQ"
      }
    },
    {
      "cell_type": "code",
      "source": [
        "arr=np.random.randn(3,4)"
      ],
      "metadata": {
        "id": "0ToQuXsFod7P"
      },
      "execution_count": 10,
      "outputs": []
    },
    {
      "cell_type": "code",
      "source": [
        "arr"
      ],
      "metadata": {
        "colab": {
          "base_uri": "https://localhost:8080/"
        },
        "id": "Lt35hZ4VpOTJ",
        "outputId": "62ac50e4-8be5-4f10-9203-ecd045bfa4ca"
      },
      "execution_count": 11,
      "outputs": [
        {
          "output_type": "execute_result",
          "data": {
            "text/plain": [
              "array([[ 0.45772569,  0.26032613, -1.05222679,  0.13787572],\n",
              "       [-0.06523781, -1.81460874,  0.49706373, -1.1981835 ],\n",
              "       [-0.42424318,  0.34524748, -1.22554074,  0.52884771]])"
            ]
          },
          "metadata": {},
          "execution_count": 11
        }
      ]
    },
    {
      "cell_type": "code",
      "source": [
        "np_to_torch=torch.tensor(arr)"
      ],
      "metadata": {
        "id": "tMhW-c31pPLB"
      },
      "execution_count": 12,
      "outputs": []
    },
    {
      "cell_type": "code",
      "source": [
        "np_to_torch"
      ],
      "metadata": {
        "colab": {
          "base_uri": "https://localhost:8080/"
        },
        "id": "HDFgHq5Ypcnx",
        "outputId": "3533e149-a7c0-4384-c3ba-ecb28c050ad7"
      },
      "execution_count": 13,
      "outputs": [
        {
          "output_type": "execute_result",
          "data": {
            "text/plain": [
              "tensor([[ 0.4577,  0.2603, -1.0522,  0.1379],\n",
              "        [-0.0652, -1.8146,  0.4971, -1.1982],\n",
              "        [-0.4242,  0.3452, -1.2255,  0.5288]], dtype=torch.float64)"
            ]
          },
          "metadata": {},
          "execution_count": 13
        }
      ]
    },
    {
      "cell_type": "code",
      "source": [],
      "metadata": {
        "id": "Lp2RA6hmpe40"
      },
      "execution_count": null,
      "outputs": []
    }
  ]
}